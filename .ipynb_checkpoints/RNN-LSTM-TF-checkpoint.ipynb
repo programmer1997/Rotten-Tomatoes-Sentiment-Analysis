{
 "cells": [
  {
   "cell_type": "code",
   "execution_count": 2,
   "metadata": {},
   "outputs": [],
   "source": [
    "import tensorflow as tf\n",
    "import numpy as np\n",
    "import random\n",
    "from random import shuffle"
   ]
  },
  {
   "cell_type": "code",
   "execution_count": 18,
   "metadata": {},
   "outputs": [
    {
     "name": "stdout",
     "output_type": "stream",
     "text": [
      "test and training data loaded\n"
     ]
    }
   ],
   "source": [
    "# from tensorflow.models.rnn import rnn_cell\n",
    "# from tensorflow.models.rnn import rnn\n",
    "\n",
    "NUM_EXAMPLES = 10000\n",
    "\n",
    "train_input = ['{0:020b}'.format(i) for i in range(2**16)]\n",
    "shuffle(train_input)\n",
    "train_input = [map(int,i) for i in train_input]\n",
    "ti  = []\n",
    "for i in train_input:\n",
    "    temp_list = []\n",
    "    for j in i:\n",
    "            temp_list.append([j])\n",
    "    ti.append(np.array(temp_list))\n",
    "train_input = ti\n",
    "\n",
    "train_output = []\n",
    "for i in train_input:\n",
    "    count = 0\n",
    "    for j in i:\n",
    "        if j[0] == 1:\n",
    "            count+=1\n",
    "    temp_list = ([0]*21)\n",
    "    temp_list[count]=1\n",
    "    train_output.append(temp_list)\n",
    "\n",
    "test_input = train_input[NUM_EXAMPLES:]\n",
    "test_output = train_output[NUM_EXAMPLES:]\n",
    "train_input = train_input[:NUM_EXAMPLES]\n",
    "train_output = train_output[:NUM_EXAMPLES]\n",
    "\n",
    "print(\"test and training data loaded\")"
   ]
  },
  {
   "cell_type": "code",
   "execution_count": 20,
   "metadata": {},
   "outputs": [
    {
     "data": {
      "text/plain": [
       "55536"
      ]
     },
     "execution_count": 20,
     "metadata": {},
     "output_type": "execute_result"
    }
   ],
   "source": [
    "len(test_input)"
   ]
  },
  {
   "cell_type": "code",
   "execution_count": 21,
   "metadata": {},
   "outputs": [
    {
     "name": "stderr",
     "output_type": "stream",
     "text": [
      "c:\\users\\nghia\\environments\\tf-gpu\\lib\\site-packages\\tensorflow\\python\\ops\\gradients_impl.py:108: UserWarning: Converting sparse IndexedSlices to a dense Tensor of unknown shape. This may consume a large amount of memory.\n",
      "  \"Converting sparse IndexedSlices to a dense Tensor of unknown shape. \"\n"
     ]
    }
   ],
   "source": [
    "tf.reset_default_graph()  # reset the graph\n",
    "data = tf.placeholder(tf.float32, [None, 20,1], name=\"input\") #Number of examples, number of input, dimension of each input\n",
    "target = tf.placeholder(tf.float32, [None, 21], name=\"output\")\n",
    "num_hidden = 24\n",
    "cell = tf.nn.rnn_cell.LSTMCell(num_hidden,state_is_tuple=True)\n",
    "val, _ = tf.nn.dynamic_rnn(cell, data, dtype=tf.float32)\n",
    "val = tf.transpose(val, [1, 0, 2])\n",
    "last = tf.gather(val, int(val.get_shape()[0]) - 1)\n",
    "weight = tf.Variable(tf.truncated_normal([num_hidden, int(target.get_shape()[1])]))\n",
    "bias = tf.Variable(tf.constant(0.1, shape=[target.get_shape()[1]]))\n",
    "prediction = tf.nn.softmax(tf.matmul(last, weight) + bias)\n",
    "cross_entropy = -tf.reduce_sum(target * tf.log(tf.clip_by_value(prediction,1e-10,1.0)))\n",
    "optimizer = tf.train.AdamOptimizer()\n",
    "minimize = optimizer.minimize(cross_entropy)\n",
    "mistakes = tf.not_equal(tf.argmax(target, 1), tf.argmax(prediction, 1))\n",
    "error = tf.reduce_mean(tf.cast(mistakes, tf.float32))\n"
   ]
  },
  {
   "cell_type": "code",
   "execution_count": 23,
   "metadata": {},
   "outputs": [
    {
     "name": "stdout",
     "output_type": "stream",
     "text": [
      "Epoch 0 \n",
      "Epoch 1 \n",
      "Epoch 2 \n",
      "Epoch 3 \n",
      "Epoch 4 \n",
      "Epoch 5 \n",
      "Epoch 6 \n",
      "Epoch 7 \n",
      "Epoch 8 \n",
      "Epoch 9 \n",
      "Epoch 10 \n",
      "Epoch 11 \n",
      "Epoch 12 \n",
      "Epoch 13 \n",
      "Epoch 14 \n",
      "Epoch 15 \n",
      "Epoch 16 \n",
      "Epoch 17 \n",
      "Epoch 18 \n",
      "Epoch 19 \n",
      "Epoch 20 \n",
      "Epoch 21 \n",
      "Epoch 22 \n",
      "Epoch 23 \n",
      "Epoch 24 \n",
      "Epoch 25 \n",
      "Epoch 26 \n",
      "Epoch 27 \n",
      "Epoch 28 \n",
      "Epoch 29 \n",
      "Epoch 30 \n",
      "Epoch 31 \n",
      "Epoch 32 \n",
      "Epoch 33 \n",
      "Epoch 34 \n",
      "Epoch 35 \n",
      "Epoch 36 \n",
      "Epoch 37 \n",
      "Epoch 38 \n",
      "Epoch 39 \n",
      "Epoch 40 \n",
      "Epoch 41 \n",
      "Epoch 42 \n",
      "Epoch 43 \n",
      "Epoch 44 \n",
      "Epoch 45 \n",
      "Epoch 46 \n",
      "Epoch 47 \n",
      "Epoch 48 \n",
      "Epoch 49 \n",
      "[[2.7279573e-04 1.8855372e-04 1.2755264e-03 4.1070642e-05 9.7962050e-04\n",
      "  4.2373678e-05 9.3981071e-05 5.7310512e-04 1.3812729e-03 4.3540485e-02\n",
      "  1.8353747e-01 3.5174307e-01 3.3525747e-01 5.4104287e-02 2.0092594e-02\n",
      "  2.2571757e-04 2.7045814e-04 2.1536499e-03 8.7544997e-04 1.4666119e-03\n",
      "  1.8844226e-03]]\n",
      "Epoch 50 error 22.4%\n"
     ]
    }
   ],
   "source": [
    "init_op = tf.global_variables_initializer()\n",
    "sess = tf.Session()\n",
    "sess.run(init_op)\n",
    "batch_size = 1000\n",
    "no_of_batches = int(len(train_input) / batch_size)\n",
    "epoch = 50\n",
    "for i in range(epoch):\n",
    "    ptr = 0\n",
    "    for j in range(no_of_batches):\n",
    "        inp, out = train_input[ptr:ptr+batch_size], train_output[ptr:ptr+batch_size]\n",
    "        ptr+=batch_size\n",
    "        sess.run(minimize,{data: inp, target: out})\n",
    "    print(\"Epoch {} \\r\".format(i))\n",
    "incorrect = sess.run(error,{data: test_input, target: test_output})\n",
    "print(sess.run(prediction,{data: [[[1],[0],[0],[1],[1],[0],[1],[1],[1],[0],[1],[0],[0],[1],[1],[0],[1],[1],[1],[0]]]}))\n",
    "print('Epoch {:2d} error {:3.1f}%'.format(i + 1, 100 * incorrect))\n",
    "sess.close()"
   ]
  },
  {
   "cell_type": "code",
   "execution_count": 35,
   "metadata": {},
   "outputs": [
    {
     "name": "stdout",
     "output_type": "stream",
     "text": [
      "5\r"
     ]
    },
    {
     "ename": "KeyboardInterrupt",
     "evalue": "",
     "output_type": "error",
     "traceback": [
      "\u001b[1;31m---------------------------------------------------------------------------\u001b[0m",
      "\u001b[1;31mKeyboardInterrupt\u001b[0m                         Traceback (most recent call last)",
      "\u001b[1;32m<ipython-input-35-9db009fbd815>\u001b[0m in \u001b[0;36m<module>\u001b[1;34m()\u001b[0m\n\u001b[0;32m      2\u001b[0m \u001b[1;32mfor\u001b[0m \u001b[0mi\u001b[0m \u001b[1;32min\u001b[0m \u001b[0mrange\u001b[0m\u001b[1;33m(\u001b[0m\u001b[1;36m50\u001b[0m\u001b[1;33m)\u001b[0m\u001b[1;33m:\u001b[0m\u001b[1;33m\u001b[0m\u001b[0m\n\u001b[0;32m      3\u001b[0m     \u001b[0mprint\u001b[0m\u001b[1;33m(\u001b[0m\u001b[0mstr\u001b[0m\u001b[1;33m(\u001b[0m\u001b[0mi\u001b[0m\u001b[1;33m)\u001b[0m\u001b[1;33m,\u001b[0m \u001b[0mend\u001b[0m\u001b[1;33m=\u001b[0m \u001b[1;34m\"\\r\"\u001b[0m\u001b[1;33m)\u001b[0m\u001b[1;33m\u001b[0m\u001b[0m\n\u001b[1;32m----> 4\u001b[1;33m     \u001b[0mtime\u001b[0m\u001b[1;33m.\u001b[0m\u001b[0msleep\u001b[0m\u001b[1;33m(\u001b[0m\u001b[1;36m1\u001b[0m\u001b[1;33m)\u001b[0m\u001b[1;33m\u001b[0m\u001b[0m\n\u001b[0m",
      "\u001b[1;31mKeyboardInterrupt\u001b[0m: "
     ]
    }
   ],
   "source": [
    "import time\n",
    "for i in range(50):\n",
    "    print(str(i), end= \"\\r\")"
   ]
  },
  {
   "cell_type": "code",
   "execution_count": null,
   "metadata": {},
   "outputs": [],
   "source": []
  }
 ],
 "metadata": {
  "kernelspec": {
   "display_name": "Python 3",
   "language": "python",
   "name": "python3"
  },
  "language_info": {
   "codemirror_mode": {
    "name": "ipython",
    "version": 3
   },
   "file_extension": ".py",
   "mimetype": "text/x-python",
   "name": "python",
   "nbconvert_exporter": "python",
   "pygments_lexer": "ipython3",
   "version": "3.6.4"
  }
 },
 "nbformat": 4,
 "nbformat_minor": 2
}
