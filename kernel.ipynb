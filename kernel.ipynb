{
  "cells": [
    {
      "metadata": {
        "trusted": true,
        "_uuid": "4842c9b969626d2ed2db6f4b4fe194bb7e21be16"
      },
      "cell_type": "code",
      "source": "# This Python 3 environment comes with many helpful analytics libraries installed\n# It is defined by the kaggle/python docker image: https://github.com/kaggle/docker-python\n# For example, here's several helpful packages to load in \n\nimport numpy as np # linear algebra\nimport pandas as pd # data processing, CSV file I/O (e.g. pd.read_csv)\n\nfrom sklearn.feature_extraction.text import CountVectorizer\nfrom keras.preprocessing.text import Tokenizer\nfrom keras.preprocessing.sequence import pad_sequences\nfrom keras.models import Sequential\nfrom keras.layers import Dense, Embedding, LSTM, SpatialDropout1D\nfrom sklearn.model_selection import train_test_split\nfrom keras.utils.np_utils import to_categorical\nimport re\n\n# Input data files are available in the \"../input/\" directory.\n# For example, running this (by clicking run or pressing Shift+Enter) will list the files in the input directory\n",
      "execution_count": 1,
      "outputs": [
        {
          "output_type": "stream",
          "text": "Using TensorFlow backend.\n",
          "name": "stderr"
        }
      ]
    },
    {
      "metadata": {
        "trusted": true,
        "_uuid": "1f2f1f47910160375be924a105229fe7aa33e321"
      },
      "cell_type": "code",
      "source": "test = pd.read_csv(\"../input/test.tsv\", sep='\\t')\ntrain = pd.read_csv(\"../input/train.tsv\", sep=\"\\t\")",
      "execution_count": 6,
      "outputs": []
    },
    {
      "metadata": {
        "trusted": true,
        "_uuid": "1220fd924808a2c4b42a1ae93b53d50c479ea7b3"
      },
      "cell_type": "code",
      "source": "train = train[[\"Phrase\", \"Sentiment\"]]\ntrain['Phrase'] = train['Phrase'].apply(lambda x: x.lower())\ntrain",
      "execution_count": 7,
      "outputs": [
        {
          "output_type": "execute_result",
          "execution_count": 7,
          "data": {
            "text/plain": "                                                   Phrase  Sentiment\n0       a series of escapades demonstrating the adage ...          1\n1       a series of escapades demonstrating the adage ...          2\n2                                                a series          2\n3                                                       a          2\n4                                                  series          2\n5       of escapades demonstrating the adage that what...          2\n6                                                      of          2\n7       escapades demonstrating the adage that what is...          2\n8                                               escapades          2\n9       demonstrating the adage that what is good for ...          2\n10                                demonstrating the adage          2\n11                                          demonstrating          2\n12                                              the adage          2\n13                                                    the          2\n14                                                  adage          2\n15                        that what is good for the goose          2\n16                                                   that          2\n17                             what is good for the goose          2\n18                                                   what          2\n19                                  is good for the goose          2\n20                                                     is          2\n21                                     good for the goose          3\n22                                                   good          3\n23                                          for the goose          2\n24                                                    for          2\n25                                              the goose          2\n26                                                  goose          2\n27      is also good for the gander , some of which oc...          2\n28      is also good for the gander , some of which oc...          2\n29                                                is also          2\n...                                                   ...        ...\n156030                        a joke in the united states          2\n156031  the movie 's downfall is to substitute plot fo...          1\n156032                              the movie 's downfall          1\n156033            is to substitute plot for personality .          1\n156034              is to substitute plot for personality          1\n156035                 to substitute plot for personality          2\n156036                    substitute plot for personality          1\n156037                                    substitute plot          2\n156038                                    for personality          2\n156039  the film is darkly atmospheric , with herrmann...          2\n156040  is darkly atmospheric , with herrmann quietly ...          2\n156041  is darkly atmospheric , with herrmann quietly ...          2\n156042                            is darkly atmospheric ,          2\n156043                              is darkly atmospheric          3\n156044  with herrmann quietly suggesting the sadness a...          2\n156045  herrmann quietly suggesting the sadness and ob...          2\n156046                                           herrmann          2\n156047  quietly suggesting the sadness and obsession b...          1\n156048  suggesting the sadness and obsession beneath h...          2\n156049               suggesting the sadness and obsession          2\n156050                          the sadness and obsession          2\n156051                              sadness and obsession          1\n156052                                        sadness and          1\n156053        beneath hearst 's forced avuncular chortles          2\n156054                hearst 's forced avuncular chortles          2\n156055                                          hearst 's          2\n156056                          forced avuncular chortles          1\n156057                                 avuncular chortles          3\n156058                                          avuncular          2\n156059                                           chortles          2\n\n[156060 rows x 2 columns]",
            "text/html": "<div>\n<style scoped>\n    .dataframe tbody tr th:only-of-type {\n        vertical-align: middle;\n    }\n\n    .dataframe tbody tr th {\n        vertical-align: top;\n    }\n\n    .dataframe thead th {\n        text-align: right;\n    }\n</style>\n<table border=\"1\" class=\"dataframe\">\n  <thead>\n    <tr style=\"text-align: right;\">\n      <th></th>\n      <th>Phrase</th>\n      <th>Sentiment</th>\n    </tr>\n  </thead>\n  <tbody>\n    <tr>\n      <th>0</th>\n      <td>a series of escapades demonstrating the adage ...</td>\n      <td>1</td>\n    </tr>\n    <tr>\n      <th>1</th>\n      <td>a series of escapades demonstrating the adage ...</td>\n      <td>2</td>\n    </tr>\n    <tr>\n      <th>2</th>\n      <td>a series</td>\n      <td>2</td>\n    </tr>\n    <tr>\n      <th>3</th>\n      <td>a</td>\n      <td>2</td>\n    </tr>\n    <tr>\n      <th>4</th>\n      <td>series</td>\n      <td>2</td>\n    </tr>\n    <tr>\n      <th>5</th>\n      <td>of escapades demonstrating the adage that what...</td>\n      <td>2</td>\n    </tr>\n    <tr>\n      <th>6</th>\n      <td>of</td>\n      <td>2</td>\n    </tr>\n    <tr>\n      <th>7</th>\n      <td>escapades demonstrating the adage that what is...</td>\n      <td>2</td>\n    </tr>\n    <tr>\n      <th>8</th>\n      <td>escapades</td>\n      <td>2</td>\n    </tr>\n    <tr>\n      <th>9</th>\n      <td>demonstrating the adage that what is good for ...</td>\n      <td>2</td>\n    </tr>\n    <tr>\n      <th>10</th>\n      <td>demonstrating the adage</td>\n      <td>2</td>\n    </tr>\n    <tr>\n      <th>11</th>\n      <td>demonstrating</td>\n      <td>2</td>\n    </tr>\n    <tr>\n      <th>12</th>\n      <td>the adage</td>\n      <td>2</td>\n    </tr>\n    <tr>\n      <th>13</th>\n      <td>the</td>\n      <td>2</td>\n    </tr>\n    <tr>\n      <th>14</th>\n      <td>adage</td>\n      <td>2</td>\n    </tr>\n    <tr>\n      <th>15</th>\n      <td>that what is good for the goose</td>\n      <td>2</td>\n    </tr>\n    <tr>\n      <th>16</th>\n      <td>that</td>\n      <td>2</td>\n    </tr>\n    <tr>\n      <th>17</th>\n      <td>what is good for the goose</td>\n      <td>2</td>\n    </tr>\n    <tr>\n      <th>18</th>\n      <td>what</td>\n      <td>2</td>\n    </tr>\n    <tr>\n      <th>19</th>\n      <td>is good for the goose</td>\n      <td>2</td>\n    </tr>\n    <tr>\n      <th>20</th>\n      <td>is</td>\n      <td>2</td>\n    </tr>\n    <tr>\n      <th>21</th>\n      <td>good for the goose</td>\n      <td>3</td>\n    </tr>\n    <tr>\n      <th>22</th>\n      <td>good</td>\n      <td>3</td>\n    </tr>\n    <tr>\n      <th>23</th>\n      <td>for the goose</td>\n      <td>2</td>\n    </tr>\n    <tr>\n      <th>24</th>\n      <td>for</td>\n      <td>2</td>\n    </tr>\n    <tr>\n      <th>25</th>\n      <td>the goose</td>\n      <td>2</td>\n    </tr>\n    <tr>\n      <th>26</th>\n      <td>goose</td>\n      <td>2</td>\n    </tr>\n    <tr>\n      <th>27</th>\n      <td>is also good for the gander , some of which oc...</td>\n      <td>2</td>\n    </tr>\n    <tr>\n      <th>28</th>\n      <td>is also good for the gander , some of which oc...</td>\n      <td>2</td>\n    </tr>\n    <tr>\n      <th>29</th>\n      <td>is also</td>\n      <td>2</td>\n    </tr>\n    <tr>\n      <th>...</th>\n      <td>...</td>\n      <td>...</td>\n    </tr>\n    <tr>\n      <th>156030</th>\n      <td>a joke in the united states</td>\n      <td>2</td>\n    </tr>\n    <tr>\n      <th>156031</th>\n      <td>the movie 's downfall is to substitute plot fo...</td>\n      <td>1</td>\n    </tr>\n    <tr>\n      <th>156032</th>\n      <td>the movie 's downfall</td>\n      <td>1</td>\n    </tr>\n    <tr>\n      <th>156033</th>\n      <td>is to substitute plot for personality .</td>\n      <td>1</td>\n    </tr>\n    <tr>\n      <th>156034</th>\n      <td>is to substitute plot for personality</td>\n      <td>1</td>\n    </tr>\n    <tr>\n      <th>156035</th>\n      <td>to substitute plot for personality</td>\n      <td>2</td>\n    </tr>\n    <tr>\n      <th>156036</th>\n      <td>substitute plot for personality</td>\n      <td>1</td>\n    </tr>\n    <tr>\n      <th>156037</th>\n      <td>substitute plot</td>\n      <td>2</td>\n    </tr>\n    <tr>\n      <th>156038</th>\n      <td>for personality</td>\n      <td>2</td>\n    </tr>\n    <tr>\n      <th>156039</th>\n      <td>the film is darkly atmospheric , with herrmann...</td>\n      <td>2</td>\n    </tr>\n    <tr>\n      <th>156040</th>\n      <td>is darkly atmospheric , with herrmann quietly ...</td>\n      <td>2</td>\n    </tr>\n    <tr>\n      <th>156041</th>\n      <td>is darkly atmospheric , with herrmann quietly ...</td>\n      <td>2</td>\n    </tr>\n    <tr>\n      <th>156042</th>\n      <td>is darkly atmospheric ,</td>\n      <td>2</td>\n    </tr>\n    <tr>\n      <th>156043</th>\n      <td>is darkly atmospheric</td>\n      <td>3</td>\n    </tr>\n    <tr>\n      <th>156044</th>\n      <td>with herrmann quietly suggesting the sadness a...</td>\n      <td>2</td>\n    </tr>\n    <tr>\n      <th>156045</th>\n      <td>herrmann quietly suggesting the sadness and ob...</td>\n      <td>2</td>\n    </tr>\n    <tr>\n      <th>156046</th>\n      <td>herrmann</td>\n      <td>2</td>\n    </tr>\n    <tr>\n      <th>156047</th>\n      <td>quietly suggesting the sadness and obsession b...</td>\n      <td>1</td>\n    </tr>\n    <tr>\n      <th>156048</th>\n      <td>suggesting the sadness and obsession beneath h...</td>\n      <td>2</td>\n    </tr>\n    <tr>\n      <th>156049</th>\n      <td>suggesting the sadness and obsession</td>\n      <td>2</td>\n    </tr>\n    <tr>\n      <th>156050</th>\n      <td>the sadness and obsession</td>\n      <td>2</td>\n    </tr>\n    <tr>\n      <th>156051</th>\n      <td>sadness and obsession</td>\n      <td>1</td>\n    </tr>\n    <tr>\n      <th>156052</th>\n      <td>sadness and</td>\n      <td>1</td>\n    </tr>\n    <tr>\n      <th>156053</th>\n      <td>beneath hearst 's forced avuncular chortles</td>\n      <td>2</td>\n    </tr>\n    <tr>\n      <th>156054</th>\n      <td>hearst 's forced avuncular chortles</td>\n      <td>2</td>\n    </tr>\n    <tr>\n      <th>156055</th>\n      <td>hearst 's</td>\n      <td>2</td>\n    </tr>\n    <tr>\n      <th>156056</th>\n      <td>forced avuncular chortles</td>\n      <td>1</td>\n    </tr>\n    <tr>\n      <th>156057</th>\n      <td>avuncular chortles</td>\n      <td>3</td>\n    </tr>\n    <tr>\n      <th>156058</th>\n      <td>avuncular</td>\n      <td>2</td>\n    </tr>\n    <tr>\n      <th>156059</th>\n      <td>chortles</td>\n      <td>2</td>\n    </tr>\n  </tbody>\n</table>\n<p>156060 rows × 2 columns</p>\n</div>"
          },
          "metadata": {}
        }
      ]
    },
    {
      "metadata": {
        "trusted": true,
        "_uuid": "20dd2d5d1a9fba03bbd397e8866016de16fcdd1d"
      },
      "cell_type": "code",
      "source": "train[\"Sentiment\"].value_counts()",
      "execution_count": 8,
      "outputs": [
        {
          "output_type": "execute_result",
          "execution_count": 8,
          "data": {
            "text/plain": "2    79582\n3    32927\n1    27273\n4     9206\n0     7072\nName: Sentiment, dtype: int64"
          },
          "metadata": {}
        }
      ]
    },
    {
      "metadata": {
        "trusted": true,
        "_uuid": "d8f5ac53f12a6b9bfab1ef3149cf4281dd7ed195"
      },
      "cell_type": "code",
      "source": "lens = []\nfor idx, row in train.iterrows():\n    lens.append(len(row[\"Phrase\"]))\nlens",
      "execution_count": 9,
      "outputs": [
        {
          "output_type": "execute_result",
          "execution_count": 9,
          "data": {
            "text/plain": "[188,\n 77,\n 8,\n 1,\n 6,\n 68,\n 2,\n 65,\n 9,\n 55,\n 23,\n 13,\n 9,\n 3,\n 5,\n 31,\n 4,\n 26,\n 4,\n 21,\n 2,\n 18,\n 4,\n 13,\n 3,\n 9,\n 5,\n 110,\n 108,\n 7,\n 4,\n 100,\n 95,\n 91,\n 12,\n 10,\n 6,\n 1,\n 78,\n 13,\n 4,\n 8,\n 5,\n 64,\n 12,\n 51,\n 6,\n 44,\n 3,\n 40,\n 4,\n 35,\n 32,\n 26,\n 7,\n 18,\n 2,\n 15,\n 4,\n 10,\n 7,\n 5,\n 1,\n 74,\n 55,\n 4,\n 50,\n 38,\n 5,\n 32,\n 30,\n 17,\n 13,\n 3,\n 12,\n 11,\n 18,\n 16,\n 8,\n 5,\n 7,\n 100,\n 36,\n 9,\n 4,\n 4,\n 26,\n 23,\n 18,\n 6,\n 11,\n 8,\n 2,\n 4,\n 63,\n 13,\n 11,\n 9,\n 1,\n 7,\n 49,\n 47,\n 5,\n 41,\n 4,\n 36,\n 11,\n 9,\n 4,\n 4,\n 24,\n 7,\n 16,\n 7,\n 8,\n 3,\n 152,\n 150,\n 101,\n 34,\n 32,\n 10,\n 21,\n 9,\n 11,\n 66,\n 63,\n 15,\n 11,\n 47,\n 3,\n 43,\n 39,\n 8,\n 30,\n 28,\n 8,\n 19,\n 17,\n 10,\n 6,\n 6,\n 48,\n 45,\n 26,\n 23,\n 21,\n 13,\n 7,\n 2,\n 18,\n 16,\n 5,\n 10,\n 4,\n 5,\n 60,\n 58,\n 10,\n 47,\n 22,\n 18,\n 24,\n 22,\n 12,\n 9,\n 124,\n 41,\n 14,\n 12,\n 26,\n 23,\n 11,\n 6,\n 4,\n 11,\n 82,\n 80,\n 31,\n 6,\n 24,\n 2,\n 21,\n 19,\n 7,\n 11,\n 48,\n 2,\n 45,\n 19,\n 15,\n 5,\n 9,\n 25,\n 10,\n 14,\n 7,\n 6,\n 52,\n 11,\n 40,\n 38,\n 17,\n 7,\n 9,\n 5,\n 3,\n 20,\n 18,\n 15,\n 13,\n 8,\n 4,\n 112,\n 14,\n 10,\n 97,\n 94,\n 5,\n 88,\n 9,\n 7,\n 78,\n 2,\n 75,\n 5,\n 69,\n 4,\n 64,\n 3,\n 60,\n 2,\n 57,\n 5,\n 51,\n 4,\n 46,\n 9,\n 7,\n 36,\n 4,\n 31,\n 11,\n 8,\n 19,\n 8,\n 10,\n 37,\n 33,\n 30,\n 28,\n 8,\n 4,\n 3,\n 19,\n 9,\n 5,\n 3,\n 9,\n 39,\n 35,\n 33,\n 5,\n 27,\n 7,\n 4,\n 19,\n 15,\n 11,\n 4,\n 6,\n 128,\n 5,\n 122,\n 120,\n 34,\n 32,\n 29,\n 6,\n 22,\n 19,\n 9,\n 9,\n 4,\n 4,\n 85,\n 6,\n 78,\n 74,\n 9,\n 64,\n 38,\n 20,\n 16,\n 7,\n 8,\n 17,\n 8,\n 8,\n 25,\n 8,\n 6,\n 16,\n 13,\n 4,\n 8,\n 162,\n 8,\n 4,\n 3,\n 153,\n 151,\n 85,\n 81,\n 79,\n 76,\n 46,\n 23,\n 11,\n 8,\n 11,\n 22,\n 19,\n 3,\n 15,\n 9,\n 5,\n 29,\n 26,\n 2,\n 23,\n 20,\n 18,\n 12,\n 5,\n 65,\n 6,\n 58,\n 53,\n 9,\n 43,\n 19,\n 10,\n 6,\n 8,\n 5,\n 23,\n 6,\n 16,\n 6,\n 9,\n 4,\n 38,\n 16,\n 12,\n 21,\n 19,\n 3,\n 15,\n 2,\n 12,\n 8,\n 3,\n 153,\n 11,\n 141,\n 139,\n 3,\n 135,\n 9,\n 125,\n 7,\n 117,\n 114,\n 3,\n 110,\n 5,\n 104,\n 8,\n 4,\n 95,\n 8,\n 86,\n 18,\n 11,\n 6,\n 67,\n 3,\n 63,\n 27,\n 23,\n 7,\n 15,\n 3,\n 11,\n 35,\n 8,\n 5,\n 2,\n 26,\n 3,\n 22,\n 8,\n 4,\n 13,\n 10,\n 5,\n 57,\n 55,\n 5,\n 49,\n 47,\n 42,\n 32,\n 9,\n 22,\n 4,\n 17,\n 15,\n 6,\n 8,\n 9,\n 6,\n 132,\n 68,\n 16,\n 14,\n 7,\n 6,\n 51,\n 46,\n 15,\n 8,\n 6,\n 30,\n 25,\n 3,\n 21,\n 3,\n 17,\n 12,\n 9,\n 6,\n 63,\n 61,\n 52,\n 50,\n 47,\n 22,\n 18,\n 16,\n 9,\n 5,\n 6,\n 24,\n 10,\n 13,\n 7,\n 57,\n 21,\n 19,\n 17,\n 9,\n 7,\n 35,\n 30,\n 25,\n 9,\n 5,\n 15,\n 3,\n 11,\n 8,\n 136,\n 45,\n 40,\n 33,\n 31,\n 21,\n 4,\n 16,\n 7,\n 8,\n 9,\n 6,\n 3,\n 90,\n 4,\n 85,\n 83,\n 54,\n 51,\n 48,\n 8,\n 4,\n 39,\n 35,\n 17,\n 7,\n 4,\n 2,\n 9,\n 4,\n 17,\n 15,\n 4,\n 10,\n 4,\n 5,\n 28,\n 7,\n 20,\n 3,\n 16,\n 8,\n 7,\n 71,\n 69,\n 8,\n 2,\n 5,\n 60,\n 57,\n 18,\n 10,\n 7,\n 38,\n 35,\n 16,\n 12,\n 8,\n 18,\n 14,\n 4,\n 9,\n 4,\n 52,\n 49,\n 47,\n 44,\n 10,\n 33,\n 29,\n 2,\n 26,\n 21,\n 9,\n 6,\n 11,\n 7,\n 4,\n 33,\n 4,\n 28,\n 26,\n 19,\n 17,\n 5,\n 11,\n 8,\n 4,\n 6,\n 3,\n 220,\n 218,\n 51,\n 47,\n 45,\n 18,\n 12,\n 8,\n 5,\n 26,\n 4,\n 21,\n 10,\n 6,\n 10,\n 7,\n 166,\n 13,\n 10,\n 152,\n 9,\n 142,\n 56,\n 54,\n 7,\n 46,\n 7,\n 5,\n 38,\n 35,\n 11,\n 7,\n 23,\n 20,\n 16,\n 10,\n 5,\n 85,\n 8,\n 76,\n 12,\n 10,\n 4,\n 63,\n 58,\n 12,\n 6,\n 5,\n 45,\n 40,\n 36,\n 12,\n 8,\n 23,\n 9,\n 13,\n 105,\n 102,\n 100,\n 97,\n 92,\n 26,\n 22,\n 5,\n 16,\n 13,\n 11,\n 5,\n 5,\n 65,\n 8,\n 56,\n 8,\n 4,\n 47,\n 14,\n 6,\n 7,\n 32,\n 7,\n 24,\n 22,\n 8,\n 13,\n 136,\n 39,\n 34,\n 30,\n 5,\n 24,\n 6,\n 17,\n 2,\n 14,\n 7,\n 6,\n 3,\n 2,\n 96,\n 94,\n 6,\n 87,\n 32,\n 13,\n 7,\n 1,\n 5,\n 18,\n 6,\n 11,\n 54,\n 51,\n 17,\n 15,\n 10,\n 33,\n 30,\n 3,\n 26,\n 23,\n 14,\n 8,\n 4,\n 62,\n 8,\n 4,\n 53,\n 51,\n 48,\n 38,\n 27,\n 8,\n 18,\n 6,\n 11,\n 10,\n 5,\n 9,\n 6,\n 101,\n 98,\n 96,\n 7,\n 88,\n 83,\n 49,\n 42,\n 38,\n 36,\n 33,\n 10,\n 22,\n 8,\n 13,\n 11,\n 7,\n 3,\n 6,\n 33,\n 14,\n 18,\n 13,\n 66,\n 28,\n 6,\n 21,\n 16,\n 7,\n 8,\n 5,\n 37,\n 35,\n 18,\n 6,\n 11,\n 16,\n 13,\n 9,\n 197,\n 93,\n 5,\n 87,\n 31,\n 16,\n 13,\n 55,\n 46,\n 42,\n 6,\n 35,\n 13,\n 21,\n 17,\n 10,\n 6,\n 8,\n 103,\n 101,\n 98,\n 96,\n 87,\n 7,\n 4,\n 79,\n 77,\n 70,\n 67,\n 17,\n 14,\n 11,\n 7,\n 49,\n 6,\n 42,\n 16,\n 12,\n 8,\n 5,\n 25,\n 12,\n 8,\n 6,\n 1,\n 96,\n 10,\n 6,\n 85,\n 83,\n 23,\n 5,\n 17,\n 8,\n 5,\n 8,\n 59,\n 56,\n 25,\n 11,\n 13,\n 9,\n 30,\n 27,\n 20,\n 6,\n 13,\n 10,\n 6,\n 119,\n 117,\n 58,\n 54,\n 52,\n 15,\n 10,\n 36,\n 4,\n 31,\n 4,\n 26,\n 16,\n 9,\n 58,\n 14,\n 2,\n 11,\n 5,\n 5,\n 43,\n 40,\n 37,\n 24,\n 15,\n 11,\n 8,\n 12,\n 6,\n 50,\n 42,\n 34,\n 29,\n 24,\n 22,\n 15,\n 6,\n 7,\n 116,\n 114,\n 60,\n 56,\n 29,\n 8,\n 20,\n 17,\n 14,\n 2,\n 11,\n 9,\n 26,\n 23,\n 21,\n 14,\n 6,\n 3,\n 53,\n 48,\n 19,\n 15,\n 4,\n 10,\n 6,\n 28,\n 7,\n 4,\n 2,\n 20,\n 8,\n 11,\n 6,\n 133,\n 131,\n 87,\n 83,\n 81,\n 7,\n 3,\n 3,\n 73,\n 70,\n 44,\n 40,\n 5,\n 34,\n 18,\n 15,\n 7,\n 7,\n 25,\n 22,\n 4,\n 17,\n 12,\n 5,\n 43,\n 38,\n 29,\n 5,\n 23,\n 19,\n 14,\n 7,\n 6,\n 8,\n 5,\n 114,\n 112,\n 57,\n 53,\n 51,\n 45,\n 42,\n 17,\n 11,\n 24,\n 21,\n 16,\n 13,\n 8,\n 4,\n 54,\n 10,\n 6,\n 43,\n 8,\n 5,\n 34,\n 11,\n 7,\n 22,\n 17,\n 12,\n 4,\n 113,\n 8,\n 104,\n 102,\n 95,\n 90,\n 65,\n 8,\n 56,\n 19,\n 15,\n 7,\n 7,\n 36,\n 33,\n 31,\n 16,\n 14,\n 10,\n 14,\n 10,\n 4,\n 5,\n 24,\n 19,\n 9,\n 123,\n 4,\n 118,\n 116,\n 3,\n 112,\n 41,\n 37,\n 30,\n 7,\n 22,\n 20,\n 6,\n 13,\n 6,\n 70,\n 65,\n 59,\n 56,\n 8,\n 47,\n 6,\n 40,\n 27,\n 10,\n 6,\n 16,\n 13,\n 6,\n 12,\n ...]"
          },
          "metadata": {}
        }
      ]
    },
    {
      "metadata": {
        "trusted": true,
        "_uuid": "70d8274d49796e4f93b8720d3b74208b6f8f1351"
      },
      "cell_type": "code",
      "source": "import matplotlib.pyplot as plt\n%matplotlib inline\n# An \"interface\" to matplotlib.axes.Axes.hist() method\nn, bins, patches = plt.hist(x=lens, bins='auto', color='#0504aa',\n                            alpha=0.7, rwidth=0.85)\nplt.grid(axis='y', alpha=0.75)\nplt.xlabel('Value')\nplt.ylabel('Frequency')\nplt.title('Length of Phrase')\nmaxfreq = n.max()\n# Set a clean upper y-axis limit.\nplt.ylim(ymax=np.ceil(maxfreq / 10) * 10 if maxfreq % 10 else maxfreq + 10)",
      "execution_count": 10,
      "outputs": [
        {
          "output_type": "execute_result",
          "execution_count": 10,
          "data": {
            "text/plain": "(0.0, 8890.0)"
          },
          "metadata": {}
        },
        {
          "output_type": "display_data",
          "data": {
            "text/plain": "<Figure size 432x288 with 1 Axes>",
            "image/png": "[encoded data removed]"
          },
          "metadata": {
            "needs_background": "light"
          }
        }
      ]
    },
    {
      "metadata": {
        "trusted": true,
        "_uuid": "c9319228eadf29d9c6d49dab232a1283a1cfbd2f"
      },
      "cell_type": "code",
      "source": "max_fatures = 100\ntokenizer = Tokenizer(num_words=max_fatures, split=' ')\ntokenizer.fit_on_texts(train['Phrase'].values)\nX = tokenizer.texts_to_sequences(train['Phrase'].values)\nX = pad_sequences(X)\nX",
      "execution_count": 12,
      "outputs": [
        {
          "output_type": "execute_result",
          "execution_count": 12,
          "data": {
            "text/plain": "array([[ 0,  0,  0, ...,  3,  2, 42],\n       [ 0,  0,  0, ..., 46, 13,  1],\n       [ 0,  0,  0, ...,  0,  0,  2],\n       ...,\n       [ 0,  0,  0, ...,  0,  0,  0],\n       [ 0,  0,  0, ...,  0,  0,  0],\n       [ 0,  0,  0, ...,  0,  0,  0]], dtype=int32)"
          },
          "metadata": {}
        }
      ]
    },
    {
      "metadata": {
        "trusted": true,
        "_uuid": "9d22ae8876e1ac7526bc4ca5136a0eb12ad712dc"
      },
      "cell_type": "code",
      "source": "####### BUILD model ##########\nembed_dim = 128\nlstm_out = 196\n\nmodel = Sequential()\nmodel.add(Embedding(max_fatures, embed_dim,input_length = X.shape[1]))\nmodel.add(SpatialDropout1D(0.4))\nmodel.add(LSTM(lstm_out, dropout=0.2, recurrent_dropout=0.2))\nmodel.add(Dense(5,activation='softmax'))\nmodel.compile(loss = 'categorical_crossentropy', optimizer='adam',metrics = ['accuracy'])\nprint(model.summary())",
      "execution_count": 13,
      "outputs": [
        {
          "output_type": "stream",
          "text": "_________________________________________________________________\nLayer (type)                 Output Shape              Param #   \n=================================================================\nembedding_1 (Embedding)      (None, 30, 128)           12800     \n_________________________________________________________________\nspatial_dropout1d_1 (Spatial (None, 30, 128)           0         \n_________________________________________________________________\nlstm_1 (LSTM)                (None, 196)               254800    \n_________________________________________________________________\ndense_1 (Dense)              (None, 5)                 985       \n=================================================================\nTotal params: 268,585\nTrainable params: 268,585\nNon-trainable params: 0\n_________________________________________________________________\nNone\n",
          "name": "stdout"
        }
      ]
    },
    {
      "metadata": {
        "trusted": true,
        "_uuid": "cda878284b0d1b815ee36f1b140640975c62673b"
      },
      "cell_type": "code",
      "source": "####### convert to 1-hot vector #######\nY = pd.get_dummies(train['Sentiment']).values\nY",
      "execution_count": 14,
      "outputs": [
        {
          "output_type": "execute_result",
          "execution_count": 14,
          "data": {
            "text/plain": "array([[0, 1, 0, 0, 0],\n       [0, 0, 1, 0, 0],\n       [0, 0, 1, 0, 0],\n       ...,\n       [0, 0, 0, 1, 0],\n       [0, 0, 1, 0, 0],\n       [0, 0, 1, 0, 0]], dtype=uint8)"
          },
          "metadata": {}
        }
      ]
    },
    {
      "metadata": {
        "trusted": true,
        "_uuid": "d075172e846a81e1ff09e46ad14659187d1a0e67"
      },
      "cell_type": "code",
      "source": "X_train, X_test, Y_train, Y_test = train_test_split(X,Y, test_size = 0.33, random_state = 42)\nprint(X_train.shape,Y_train.shape)\nprint(X_test.shape,Y_test.shape)",
      "execution_count": 15,
      "outputs": [
        {
          "output_type": "stream",
          "text": "(104560, 30) (104560, 5)\n(51500, 30) (51500, 5)\n",
          "name": "stdout"
        }
      ]
    },
    {
      "metadata": {
        "trusted": true,
        "_uuid": "ac2d71b743786958fdedafabf6670a7ced4d4ea5"
      },
      "cell_type": "code",
      "source": "from keras.callbacks import ModelCheckpoint\ncheckpoint = ModelCheckpoint(\"model\", monitor='val_loss', verbose=1, save_best_only=True, save_weights_only=False, mode='auto', period=1)",
      "execution_count": 24,
      "outputs": []
    },
    {
      "metadata": {
        "trusted": true,
        "_uuid": "209bde52a259e682f8100baa8e81fb796a5bd770"
      },
      "cell_type": "code",
      "source": "batch_size = 32\nmodel.fit(X, Y, validation_split=0.33, epochs = 1, batch_size=batch_size, verbose = 1, callbacks=[checkpoint])",
      "execution_count": 25,
      "outputs": [
        {
          "output_type": "stream",
          "text": "Train on 104560 samples, validate on 51500 samples\nEpoch 1/1\n104560/104560 [==============================] - 429s 4ms/step - loss: 1.1525 - acc: 0.5517 - val_loss: 1.2070 - val_acc: 0.5220\n\nEpoch 00001: val_loss improved from inf to 1.20704, saving model to model\n",
          "name": "stdout"
        },
        {
          "output_type": "execute_result",
          "execution_count": 25,
          "data": {
            "text/plain": "<keras.callbacks.History at 0x7f23f4d932e8>"
          },
          "metadata": {}
        }
      ]
    },
    {
      "metadata": {
        "trusted": true,
        "_uuid": "d918f382f297aca8da6f02b190c8269a69b2c533"
      },
      "cell_type": "code",
      "source": "test = test[[\"PhraseId\", \"Phrase\"]]\ntest['Phrase'] = test['Phrase'].apply(lambda x: x.lower())\nX_test = tokenizer.texts_to_sequences(test['Phrase'].values)\nX_test = pad_sequences(X_test, maxlen=X.shape[1])\nresult = model.predict(X_test, batch_size=32, verbose=1)\npredictions = [np.argmax(line) for line in result]\nres = pd.DataFrame({\"PhraseId\": test[\"PhraseId\"], \"Sentiment\": predictions})\nres.to_csv(\"submit.csv\", index=False)",
      "execution_count": 26,
      "outputs": [
        {
          "output_type": "stream",
          "text": "66292/66292 [==============================] - 94s 1ms/step\n",
          "name": "stdout"
        }
      ]
    },
    {
      "metadata": {
        "trusted": true,
        "_uuid": "a6f0bfb5799dbc1a764e73adfb3f91eaf6354525"
      },
      "cell_type": "code",
      "source": "",
      "execution_count": null,
      "outputs": []
    }
  ],
  "metadata": {
    "kernelspec": {
      "display_name": "Python 3",
      "language": "python",
      "name": "python3"
    },
    "language_info": {
      "name": "python",
      "version": "3.6.6",
      "mimetype": "text/x-python",
      "codemirror_mode": {
        "name": "ipython",
        "version": 3
      },
      "pygments_lexer": "ipython3",
      "nbconvert_exporter": "python",
      "file_extension": ".py"
    }
  },
  "nbformat": 4,
  "nbformat_minor": 1
}